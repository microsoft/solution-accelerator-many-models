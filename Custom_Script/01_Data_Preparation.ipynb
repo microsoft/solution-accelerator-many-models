{
 "cells": [
  {
   "cell_type": "markdown",
   "metadata": {},
   "source": [
    "Copyright (c) Microsoft Corporation. All rights reserved.\n",
    "\n",
    "Licensed under the MIT License."
   ]
  },
  {
   "cell_type": "markdown",
   "metadata": {},
   "source": [
    "# Data Preparation and Setup\n",
    "---\n",
    "\n",
    "This notebook walks you through all the necessary steps to configure your environment and data for this solution accelerator including:\n",
    "\n",
    "1. Connect to your workspace\n",
    "2. Deploying a compute cluster for training and forecasting\n",
    "3. Creating and registering the dataset used in this accelerator\n",
    "\n",
    "### Prerequisites\n",
    "If you have already run the [00_Setup_AML_Workspace](../00_Setup_AML_Workspace.ipynb) notebooks you are all set."
   ]
  },
  {
   "cell_type": "markdown",
   "metadata": {},
   "source": [
    "## 1.0 Connect to your Workspace\n",
    "In the [00_Setup_AML_Workspace](../00_Setup_AML_Workspace.ipynb) notebook you created a [Workspace](https://docs.microsoft.com/en-us/python/api/azureml-core/azureml.core.workspace.workspace?view=azure-ml-py). "
   ]
  },
  {
   "cell_type": "code",
   "execution_count": 1,
   "metadata": {},
   "outputs": [
    {
     "data": {
      "text/plain": [
       "{'id': '/subscriptions/381b38e9-9840-4719-a5a0-61d9585e1e91/resourceGroups/erwright-automl/providers/Microsoft.MachineLearningServices/workspaces/erwrightDevTest',\n",
       " 'name': 'erwrightDevTest',\n",
       " 'location': 'westus2',\n",
       " 'type': 'Microsoft.MachineLearningServices/workspaces',\n",
       " 'sku': 'Enterprise',\n",
       " 'workspaceid': 'cb7c6316-1e4f-4176-88d3-c9d532bc6250',\n",
       " 'description': '',\n",
       " 'friendlyName': 'erwrightDevTest',\n",
       " 'creationTime': '2019-12-20T17:22:41.1330323+00:00',\n",
       " 'containerRegistry': '/subscriptions/381b38e9-9840-4719-a5a0-61d9585e1e91/resourceGroups/erwright-automl/providers/Microsoft.ContainerRegistry/registries/erwrightdevt4b19fb88',\n",
       " 'keyVault': '/subscriptions/381b38e9-9840-4719-a5a0-61d9585e1e91/resourcegroups/erwright-automl/providers/microsoft.keyvault/vaults/erwrightkeyvault85243c18',\n",
       " 'applicationInsights': '/subscriptions/381b38e9-9840-4719-a5a0-61d9585e1e91/resourcegroups/erwright-automl/providers/microsoft.insights/components/erwrightinsights82d97763',\n",
       " 'identityPrincipalId': '7bc2b1aa-d8ce-4ad2-aaa8-71e9b94852ba',\n",
       " 'identityTenantId': '72f988bf-86f1-41af-91ab-2d7cd011db47',\n",
       " 'identityType': 'SystemAssigned',\n",
       " 'storageAccount': '/subscriptions/381b38e9-9840-4719-a5a0-61d9585e1e91/resourcegroups/erwright-automl/providers/microsoft.storage/storageaccounts/erwrightstoragee06745313',\n",
       " 'hbiWorkspace': False,\n",
       " 'discoveryUrl': 'https://westus2.experiments.azureml.net/discovery'}"
      ]
     },
     "execution_count": 1,
     "metadata": {},
     "output_type": "execute_result"
    }
   ],
   "source": [
    "from azureml.core.workspace import Workspace\n",
    "ws = Workspace.from_config() \n",
    "\n",
    "\n",
    "# Take a look at Workspace\n",
    "ws.get_details()"
   ]
  },
  {
   "cell_type": "markdown",
   "metadata": {},
   "source": [
    "## 2.0 Create compute\n",
    "\n",
    "In this step we create an compute cluster that will be used for the training and forecasting pipelines. This is a one-time set up so you won't need to re-run this in future notebooks.\n",
    "\n",
    "We create a STANDARD_D13_V2 compute cluster. D-series VMs are used for tasks that require higher compute power and temporary disk performance. This [page](https://docs.microsoft.com/en-us/azure/cloud-services/cloud-services-sizes-specs) will gives you more information on VM sizes to help you decide which will best fit your use case."
   ]
  },
  {
   "cell_type": "code",
   "execution_count": 7,
   "metadata": {},
   "outputs": [
    {
     "name": "stdout",
     "output_type": "stream",
     "text": [
      "Creating\n",
      "Succeeded\n",
      "AmlCompute wait for completion finished\n",
      "\n",
      "Minimum number of nodes requested have been provisioned\n"
     ]
    }
   ],
   "source": [
    "from azureml.core.compute import ComputeTarget, AmlCompute\n",
    "from azureml.core.compute_target import ComputeTargetException\n",
    "\n",
    "# Choose a name for your CPU cluster\n",
    "cpu_cluster_name = \"cpucluster\"\n",
    "\n",
    "# Verify that cluster does not exist already\n",
    "try:\n",
    "    cpu_cluster = ComputeTarget(workspace=ws, name=cpu_cluster_name)\n",
    "    print('Found an existing cluster, using it instead.')\n",
    "except ComputeTargetException:\n",
    "    compute_config = AmlCompute.provisioning_configuration(vm_size='STANDARD_D13_V2',\n",
    "                                                           min_nodes=0,\n",
    "                                                           max_nodes=5)\n",
    "    cpu_cluster = ComputeTarget.create(ws, cpu_cluster_name, compute_config)\n",
    "\n",
    "cpu_cluster.wait_for_completion(show_output=True)"
   ]
  },
  {
   "cell_type": "markdown",
   "metadata": {},
   "source": [
    "## 3.0 Create dataset\n",
    "\n",
    "This solution accelerator uses simulated orange juice sales data from [Azure Open Datasets](https://azure.microsoft.com/en-us/services/open-datasets/) to walk you through the process of training many models on Azure Machine Learning. You can learn more about the dataset [here](https://azure.microsoft.com/en-us/services/open-datasets/catalog/sample-oj-sales-simulated/). The full dataset includes simulared sales for 3,991 stores with 3 orange juice brands each thus allowing 11,973 models to be trained to showcase the power of the many models pattern.\n",
    "\n",
    "We'll start by downloading the first 10 files but you can easily edit the code below to train all 11,973 models."
   ]
  },
  {
   "cell_type": "code",
   "execution_count": null,
   "metadata": {},
   "outputs": [],
   "source": [
    "#%pip install --upgrade azureml-opendatasets"
   ]
  },
  {
   "cell_type": "code",
   "execution_count": 2,
   "metadata": {},
   "outputs": [
    {
     "data": {
      "text/plain": [
       "['C:\\\\Users\\\\erwright\\\\Source\\\\Repos\\\\solution-accelerator-many-models\\\\Custom_Script\\\\oj_sales_data\\\\https\\\\azureopendatastorage.azurefd.net\\\\ojsales-simulatedcontainer\\\\oj_sales_data\\\\Store1000_dominicks.csv',\n",
       " 'C:\\\\Users\\\\erwright\\\\Source\\\\Repos\\\\solution-accelerator-many-models\\\\Custom_Script\\\\oj_sales_data\\\\https\\\\azureopendatastorage.azurefd.net\\\\ojsales-simulatedcontainer\\\\oj_sales_data\\\\Store1000_minute.maid.csv',\n",
       " 'C:\\\\Users\\\\erwright\\\\Source\\\\Repos\\\\solution-accelerator-many-models\\\\Custom_Script\\\\oj_sales_data\\\\https\\\\azureopendatastorage.azurefd.net\\\\ojsales-simulatedcontainer\\\\oj_sales_data\\\\Store1000_tropicana.csv',\n",
       " 'C:\\\\Users\\\\erwright\\\\Source\\\\Repos\\\\solution-accelerator-many-models\\\\Custom_Script\\\\oj_sales_data\\\\https\\\\azureopendatastorage.azurefd.net\\\\ojsales-simulatedcontainer\\\\oj_sales_data\\\\Store1001_dominicks.csv',\n",
       " 'C:\\\\Users\\\\erwright\\\\Source\\\\Repos\\\\solution-accelerator-many-models\\\\Custom_Script\\\\oj_sales_data\\\\https\\\\azureopendatastorage.azurefd.net\\\\ojsales-simulatedcontainer\\\\oj_sales_data\\\\Store1001_minute.maid.csv',\n",
       " 'C:\\\\Users\\\\erwright\\\\Source\\\\Repos\\\\solution-accelerator-many-models\\\\Custom_Script\\\\oj_sales_data\\\\https\\\\azureopendatastorage.azurefd.net\\\\ojsales-simulatedcontainer\\\\oj_sales_data\\\\Store1001_tropicana.csv',\n",
       " 'C:\\\\Users\\\\erwright\\\\Source\\\\Repos\\\\solution-accelerator-many-models\\\\Custom_Script\\\\oj_sales_data\\\\https\\\\azureopendatastorage.azurefd.net\\\\ojsales-simulatedcontainer\\\\oj_sales_data\\\\Store1002_dominicks.csv',\n",
       " 'C:\\\\Users\\\\erwright\\\\Source\\\\Repos\\\\solution-accelerator-many-models\\\\Custom_Script\\\\oj_sales_data\\\\https\\\\azureopendatastorage.azurefd.net\\\\ojsales-simulatedcontainer\\\\oj_sales_data\\\\Store1002_minute.maid.csv',\n",
       " 'C:\\\\Users\\\\erwright\\\\Source\\\\Repos\\\\solution-accelerator-many-models\\\\Custom_Script\\\\oj_sales_data\\\\https\\\\azureopendatastorage.azurefd.net\\\\ojsales-simulatedcontainer\\\\oj_sales_data\\\\Store1002_tropicana.csv',\n",
       " 'C:\\\\Users\\\\erwright\\\\Source\\\\Repos\\\\solution-accelerator-many-models\\\\Custom_Script\\\\oj_sales_data\\\\https\\\\azureopendatastorage.azurefd.net\\\\ojsales-simulatedcontainer\\\\oj_sales_data\\\\Store1003_dominicks.csv']"
      ]
     },
     "execution_count": 2,
     "metadata": {},
     "output_type": "execute_result"
    }
   ],
   "source": [
    "import os\n",
    "from azureml.core.dataset import Dataset\n",
    "from azureml.opendatasets import OjSalesSimulated\n",
    "\n",
    "# Pull all of the data\n",
    "oj_sales_files = OjSalesSimulated.get_file_dataset()\n",
    "\n",
    "# Pull only the first 10 files\n",
    "oj_sales_files_small = OjSalesSimulated.get_file_dataset().take(10)\n",
    "\n",
    "# Create a folder to download\n",
    "target_path = 'oj_sales_data' \n",
    "if not os.path.exists(target_path):\n",
    "    os.mkdir(target_path)\n",
    "\n",
    "# Download the data\n",
    "oj_sales_files_small.download(target_path, overwrite=True)"
   ]
  },
  {
   "cell_type": "code",
   "execution_count": 3,
   "metadata": {},
   "outputs": [
    {
     "name": "stdout",
     "output_type": "stream",
     "text": [
      "oj_sales_data\\https\\azureopendatastorage.azurefd.net\\ojsales-simulatedcontainer\\oj_sales_data\\Store1001_dominicks.csv\n",
      "  WeekStarting  Store      Brand  Quantity  Advert  Price   Revenue\n",
      "0   1990-06-14   1001  dominicks     12383       1   2.30  28480.90\n",
      "1   1990-06-21   1001  dominicks     19572       1   2.25  44037.00\n",
      "2   1990-06-28   1001  dominicks     13737       1   2.18  29946.66\n",
      "3   1990-07-05   1001  dominicks     11989       1   2.08  24937.12\n",
      "4   1990-07-12   1001  dominicks     17410       1   2.59  45091.90\n",
      "oj_sales_data\\https\\azureopendatastorage.azurefd.net\\ojsales-simulatedcontainer\\oj_sales_data\\Store1000_dominicks.csv\n",
      "  WeekStarting  Store      Brand  Quantity  Advert  Price   Revenue\n",
      "0   1990-06-14   1000  dominicks     12003       1   2.59  31087.77\n",
      "1   1990-06-21   1000  dominicks     10239       1   2.39  24471.21\n",
      "2   1990-06-28   1000  dominicks     17917       1   2.48  44434.16\n",
      "3   1990-07-05   1000  dominicks     14218       1   2.33  33127.94\n",
      "4   1990-07-12   1000  dominicks     15925       1   2.01  32009.25\n",
      "oj_sales_data\\https\\azureopendatastorage.azurefd.net\\ojsales-simulatedcontainer\\oj_sales_data\\Store1002_tropicana.csv\n",
      "  WeekStarting  Store      Brand  Quantity  Advert  Price   Revenue\n",
      "0   1990-06-14   1002  tropicana     12402       1   1.99  24679.98\n",
      "1   1990-06-21   1002  tropicana     18607       1   2.49  46331.43\n",
      "2   1990-06-28   1002  tropicana     13990       1   2.64  36933.60\n",
      "3   1990-07-05   1002  tropicana     19018       1   2.60  49446.80\n",
      "4   1990-07-12   1002  tropicana      9714       1   1.98  19233.72\n",
      "oj_sales_data\\https\\azureopendatastorage.azurefd.net\\ojsales-simulatedcontainer\\oj_sales_data\\Store1001_minute.maid.csv\n",
      "  WeekStarting  Store        Brand  Quantity  Advert  Price   Revenue\n",
      "0   1990-06-14   1001  minute.maid     15718       1   2.30  36151.40\n",
      "1   1990-06-21   1001  minute.maid     13738       1   2.68  36817.84\n",
      "2   1990-06-28   1001  minute.maid     16362       1   2.11  34523.82\n",
      "3   1990-07-05   1001  minute.maid     19978       1   2.23  44550.94\n",
      "4   1990-07-12   1001  minute.maid      9369       1   2.25  21080.25\n",
      "oj_sales_data\\https\\azureopendatastorage.azurefd.net\\ojsales-simulatedcontainer\\oj_sales_data\\Store1003_dominicks.csv\n",
      "  WeekStarting  Store      Brand  Quantity  Advert  Price   Revenue\n",
      "0   1990-06-14   1003  dominicks     18970       1   2.39  45338.30\n",
      "1   1990-06-21   1003  dominicks     11152       1   2.33  25984.16\n",
      "2   1990-06-28   1003  dominicks     10257       1   2.48  25437.36\n",
      "3   1990-07-05   1003  dominicks     11041       1   2.10  23186.10\n",
      "4   1990-07-12   1003  dominicks     14360       1   2.29  32884.40\n",
      "oj_sales_data\\https\\azureopendatastorage.azurefd.net\\ojsales-simulatedcontainer\\oj_sales_data\\Store1002_dominicks.csv\n",
      "  WeekStarting  Store      Brand  Quantity  Advert  Price   Revenue\n",
      "0   1990-06-14   1002  dominicks     17635       1   1.96  34564.60\n",
      "1   1990-06-21   1002  dominicks     16251       1   2.32  37702.32\n",
      "2   1990-06-28   1002  dominicks     16366       1   2.20  36005.20\n",
      "3   1990-07-05   1002  dominicks     13610       1   1.98  26947.80\n",
      "4   1990-07-12   1002  dominicks     16684       1   2.01  33534.84\n",
      "oj_sales_data\\https\\azureopendatastorage.azurefd.net\\ojsales-simulatedcontainer\\oj_sales_data\\Store1001_tropicana.csv\n",
      "  WeekStarting  Store      Brand  Quantity  Advert  Price   Revenue\n",
      "0   1990-06-14   1001  tropicana      9965       1   2.10  20926.50\n",
      "1   1990-06-21   1001  tropicana     10483       1   2.46  25788.18\n",
      "2   1990-06-28   1001  tropicana     13436       1   2.51  33724.36\n",
      "3   1990-07-05   1001  tropicana     15097       1   2.37  35779.89\n",
      "4   1990-07-12   1001  tropicana     13383       1   2.44  32654.52\n",
      "oj_sales_data\\https\\azureopendatastorage.azurefd.net\\ojsales-simulatedcontainer\\oj_sales_data\\Store1000_minute.maid.csv\n",
      "  WeekStarting  Store        Brand  Quantity  Advert  Price   Revenue\n",
      "0   1990-06-14   1000  minute.maid     11381       1   2.55  29021.55\n",
      "1   1990-06-21   1000  minute.maid     15100       1   2.39  36089.00\n",
      "2   1990-06-28   1000  minute.maid     12101       1   2.01  24323.01\n",
      "3   1990-07-05   1000  minute.maid     13007       1   2.60  33818.20\n",
      "4   1990-07-12   1000  minute.maid     17329       1   1.90  32925.10\n",
      "oj_sales_data\\https\\azureopendatastorage.azurefd.net\\ojsales-simulatedcontainer\\oj_sales_data\\Store1000_tropicana.csv\n",
      "  WeekStarting  Store      Brand  Quantity  Advert  Price   Revenue\n",
      "0   1990-06-14   1000  tropicana     17193       1   2.56  44014.08\n",
      "1   1990-06-21   1000  tropicana     11852       1   2.30  27259.60\n",
      "2   1990-06-28   1000  tropicana     16254       1   2.47  40147.38\n",
      "3   1990-07-05   1000  tropicana     15895       1   1.92  30518.40\n",
      "4   1990-07-12   1000  tropicana     17699       1   2.64  46725.36\n",
      "oj_sales_data\\https\\azureopendatastorage.azurefd.net\\ojsales-simulatedcontainer\\oj_sales_data\\Store1002_minute.maid.csv\n",
      "  WeekStarting  Store        Brand  Quantity  Advert  Price   Revenue\n",
      "0   1990-06-14   1002  minute.maid     12172       1   2.24  27265.28\n",
      "1   1990-06-21   1002  minute.maid     18172       1   2.30  41795.60\n",
      "2   1990-06-28   1002  minute.maid     11389       1   2.30  26194.70\n",
      "3   1990-07-05   1002  minute.maid     10464       1   2.18  22811.52\n",
      "4   1990-07-12   1002  minute.maid     18733       1   2.55  47769.15\n"
     ]
    }
   ],
   "source": [
    "from scripts.helper import split_data_upload_to_datastore\n",
    "\n",
    "datastore = ws.get_default_datastore()\n",
    "target_path = 'oj_sales_data'\n",
    "ds_train_path = target_path + '_train'\n",
    "ds_test_path = target_path + '_test'\n",
    "split_data_upload_to_datastore(target_path, 'WeekStarting', 20, datastore, ds_train_path, ds_test_path)\n",
    "\n"
   ]
  },
  {
   "cell_type": "code",
   "execution_count": 4,
   "metadata": {},
   "outputs": [
    {
     "data": {
      "text/plain": [
       "{\n",
       "  \"source\": [\n",
       "    \"('workspaceblobstore', 'oj_sales_data_test')\"\n",
       "  ],\n",
       "  \"definition\": [\n",
       "    \"GetDatastoreFiles\"\n",
       "  ],\n",
       "  \"registration\": {\n",
       "    \"id\": \"d5ad6720-8274-42ed-a430-c48b13ff9065\",\n",
       "    \"name\": \"oj_data_small_test\",\n",
       "    \"version\": 1,\n",
       "    \"workspace\": \"Workspace.create(name='erwrightDevTest', subscription_id='381b38e9-9840-4719-a5a0-61d9585e1e91', resource_group='erwright-automl')\"\n",
       "  }\n",
       "}"
      ]
     },
     "execution_count": 4,
     "metadata": {},
     "output_type": "execute_result"
    }
   ],
   "source": [
    "ds_train_path = target_path + '_train'\n",
    "ds_test_path = target_path + '_test'\n",
    "from azureml.core.dataset import Dataset\n",
    "# Create file datasets\n",
    "ds_train = Dataset.File.from_files(path=datastore.path(ds_train_path), validate=False)\n",
    "ds_test = Dataset.File.from_files(path=datastore.path(ds_test_path), validate=False)\n",
    "\n",
    "# Register the file datasets\n",
    "dataset_name = 'oj_data_small'\n",
    "train_dataset_name = dataset_name + '_train'\n",
    "test_dataset_name = dataset_name + '_test'\n",
    "ds_train.register(ws, train_dataset_name, create_new_version=True)\n",
    "ds_test.register(ws, test_dataset_name, create_new_version=True)"
   ]
  },
  {
   "cell_type": "markdown",
   "metadata": {},
   "source": [
    "Next, we create and register a [dataset](https://docs.microsoft.com/en-us/azure/machine-learning/concept-data#datasets) in Azure Machine Learning. \n",
    "\n",
    "Using a [FileDataset](https://docs.microsoft.com/en-us/python/api/azureml-core/azureml.data.file_dataset.filedataset?view=azure-ml-py) is currently the best way to take advantage of the many models pattern so we create a FileDataset below:"
   ]
  },
  {
   "cell_type": "code",
   "execution_count": 4,
   "metadata": {},
   "outputs": [
    {
     "name": "stdout",
     "output_type": "stream",
     "text": [
      "Uploading an estimated of 10 files\n",
      "Uploading oj_sales_data\\https\\azureopendatastorage.azurefd.net\\ojsales-simulatedcontainer\\oj_sales_data\\Store1000_dominicks.csv\n",
      "Uploading oj_sales_data\\https\\azureopendatastorage.azurefd.net\\ojsales-simulatedcontainer\\oj_sales_data\\Store1000_minute.maid.csv\n",
      "Uploading oj_sales_data\\https\\azureopendatastorage.azurefd.net\\ojsales-simulatedcontainer\\oj_sales_data\\Store1000_tropicana.csv\n",
      "Uploading oj_sales_data\\https\\azureopendatastorage.azurefd.net\\ojsales-simulatedcontainer\\oj_sales_data\\Store1001_dominicks.csv\n",
      "Uploading oj_sales_data\\https\\azureopendatastorage.azurefd.net\\ojsales-simulatedcontainer\\oj_sales_data\\Store1001_minute.maid.csv\n",
      "Uploading oj_sales_data\\https\\azureopendatastorage.azurefd.net\\ojsales-simulatedcontainer\\oj_sales_data\\Store1001_tropicana.csv\n",
      "Uploading oj_sales_data\\https\\azureopendatastorage.azurefd.net\\ojsales-simulatedcontainer\\oj_sales_data\\Store1002_dominicks.csv\n",
      "Uploading oj_sales_data\\https\\azureopendatastorage.azurefd.net\\ojsales-simulatedcontainer\\oj_sales_data\\Store1002_minute.maid.csv\n",
      "Uploading oj_sales_data\\https\\azureopendatastorage.azurefd.net\\ojsales-simulatedcontainer\\oj_sales_data\\Store1002_tropicana.csv\n",
      "Uploading oj_sales_data\\https\\azureopendatastorage.azurefd.net\\ojsales-simulatedcontainer\\oj_sales_data\\Store1003_dominicks.csv\n",
      "Uploaded oj_sales_data\\https\\azureopendatastorage.azurefd.net\\ojsales-simulatedcontainer\\oj_sales_data\\Store1000_minute.maid.csv, 1 files out of an estimated total of 10\n",
      "Uploaded oj_sales_data\\https\\azureopendatastorage.azurefd.net\\ojsales-simulatedcontainer\\oj_sales_data\\Store1002_tropicana.csv, 2 files out of an estimated total of 10\n",
      "Uploaded oj_sales_data\\https\\azureopendatastorage.azurefd.net\\ojsales-simulatedcontainer\\oj_sales_data\\Store1001_dominicks.csv, 3 files out of an estimated total of 10\n",
      "Uploaded oj_sales_data\\https\\azureopendatastorage.azurefd.net\\ojsales-simulatedcontainer\\oj_sales_data\\Store1001_minute.maid.csv, 4 files out of an estimated total of 10\n",
      "Uploaded oj_sales_data\\https\\azureopendatastorage.azurefd.net\\ojsales-simulatedcontainer\\oj_sales_data\\Store1002_minute.maid.csv, 5 files out of an estimated total of 10\n",
      "Uploaded oj_sales_data\\https\\azureopendatastorage.azurefd.net\\ojsales-simulatedcontainer\\oj_sales_data\\Store1000_dominicks.csv, 6 files out of an estimated total of 10\n",
      "Uploaded oj_sales_data\\https\\azureopendatastorage.azurefd.net\\ojsales-simulatedcontainer\\oj_sales_data\\Store1002_dominicks.csv, 7 files out of an estimated total of 10\n",
      "Uploaded oj_sales_data\\https\\azureopendatastorage.azurefd.net\\ojsales-simulatedcontainer\\oj_sales_data\\Store1003_dominicks.csv, 8 files out of an estimated total of 10\n",
      "Uploaded oj_sales_data\\https\\azureopendatastorage.azurefd.net\\ojsales-simulatedcontainer\\oj_sales_data\\Store1001_tropicana.csv, 9 files out of an estimated total of 10\n",
      "Uploaded oj_sales_data\\https\\azureopendatastorage.azurefd.net\\ojsales-simulatedcontainer\\oj_sales_data\\Store1000_tropicana.csv, 10 files out of an estimated total of 10\n",
      "Uploaded 10 files\n"
     ]
    },
    {
     "data": {
      "text/plain": [
       "{\n",
       "  \"source\": [\n",
       "    \"('workspaceblobstore', 'oj_sales_data')\"\n",
       "  ],\n",
       "  \"definition\": [\n",
       "    \"GetDatastoreFiles\"\n",
       "  ],\n",
       "  \"registration\": {\n",
       "    \"id\": \"14c5dd78-f894-45d7-94cd-5a20d34ca922\",\n",
       "    \"name\": \"oj_data_small\",\n",
       "    \"version\": 2,\n",
       "    \"workspace\": \"Workspace.create(name='erwrightDevTest', subscription_id='381b38e9-9840-4719-a5a0-61d9585e1e91', resource_group='erwright-automl')\"\n",
       "  }\n",
       "}"
      ]
     },
     "execution_count": 4,
     "metadata": {},
     "output_type": "execute_result"
    }
   ],
   "source": [
    "# Connect to default datastore\n",
    "datastore = ws.get_default_datastore()\n",
    "\n",
    "# Upload the data\n",
    "datastore.upload(src_dir = target_path,\n",
    "                target_path = target_path,\n",
    "                overwrite = True)\n",
    "\n",
    "# Create a file dataset\n",
    "path_on_datastore = datastore.path(target_path)\n",
    "ds = Dataset.File.from_files(path=path_on_datastore, validate=False)\n",
    "\n",
    "# Register the file dataset\n",
    "dataset_name = 'oj_data_small'\n",
    "ds.register(ws, dataset_name, create_new_version=True)"
   ]
  },
  {
   "cell_type": "markdown",
   "metadata": {},
   "source": [
    "Now that you've set up your workspace and created a dataset, move on to 02_Training_Pipeline.ipynb to train and score the models."
   ]
  }
 ],
 "metadata": {
  "authors": [
   {
    "name": "roastala"
   }
  ],
  "kernelspec": {
   "display_name": "azureml-sdk-dev",
   "language": "python",
   "name": "azureml-sdk-dev"
  },
  "language_info": {
   "codemirror_mode": {
    "name": "ipython",
    "version": 3
   },
   "file_extension": ".py",
   "mimetype": "text/x-python",
   "name": "python",
   "nbconvert_exporter": "python",
   "pygments_lexer": "ipython3",
   "version": "3.6.10"
  }
 },
 "nbformat": 4,
 "nbformat_minor": 4
}
